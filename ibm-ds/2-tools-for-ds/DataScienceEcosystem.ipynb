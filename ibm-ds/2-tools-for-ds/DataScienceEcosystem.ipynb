{
 "cells": [
  {
   "cell_type": "markdown",
   "metadata": {},
   "source": [
    "# Data Science Tools and Ecosystem"
   ]
  },
  {
   "cell_type": "markdown",
   "metadata": {},
   "source": [
    "In this notebook, Data Science Tools and Ecosystem are summarized."
   ]
  },
  {
   "cell_type": "markdown",
   "metadata": {},
   "source": [
    "Some of the popular **languages** that Data Scientists use are:\n",
    "1. `Python` – A flexible, easy-to-learn language with powerful libraries for data analysis, machine learning, and visualization.\n",
    "2. `R` – A language designed for statistical computing and data visualization, commonly used in academia and research.\n",
    "3. `SQL` – Essential for querying and managing databases, especially in data extraction and manipulation.\n",
    "4. `Java` – Used for building large-scale systems and data pipelines, especially in big data environments.\n",
    "5. `Scala` – Often used in big data processing with frameworks like Apache Spark.\n",
    "6. `Julia` – Gaining popularity for high-performance numerical computing and scientific computing.\n",
    "7. `SAS` – Used primarily in industries like healthcare and finance for advanced analytics and statistical modeling."
   ]
  },
  {
   "cell_type": "markdown",
   "metadata": {},
   "source": [
    "Some of the commonly used **libraries** used by Data Scientists include:\n",
    "1. `NumPy`: A fundamental package for scientific computing in Python, used for working with arrays, matrices, and performing mathematical operations.\n",
    "2. `Pandas`: A library providing high-level data structures like DataFrames, ideal for data manipulation, analysis, and handling structured data efficiently.\n",
    "3. `Matplotlib`: A plotting library used for creating static, animated, and interactive visualizations in Python, helping data scientists to present data graphically.\n",
    "4. `Seaborn`: Built on top of Matplotlib, Seaborn simplifies the creation of attractive and informative statistical graphics.\n",
    "5. `SciPy`: A library for scientific and technical computing, it builds on NumPy and provides additional functionality for optimization, integration, and statistical analysis.\n",
    "6. `Scikit-learn`: A machine learning library for Python, offering simple and efficient tools for data mining and data analysis, including algorithms for classification, regression, clustering, and dimensionality reduction.\n",
    "7. `TensorFlow`: An open-source framework for machine learning and artificial intelligence, widely used for deep learning models and neural networks.\n",
    "8. `Keras`: A high-level neural networks API, written in Python, running on top of TensorFlow, designed to enable fast experimentation with deep learning models.\n",
    "9. `PyTorch`: An open-source machine learning library, particularly for deep learning, known for its flexibility and speed, commonly used in research.\n",
    "10. `Statsmodels`: A library for estimating and testing statistical models, useful for performing hypothesis testing and analyzing statistical data.\n",
    "11. `NLTK`: The Natural Language Toolkit for Python, used for processing and analyzing human language data (text).\n",
    "12. `XGBoost`: A scalable, efficient, and flexible gradient boosting library for supervised learning tasks, widely used for classification and regression problems."
   ]
  },
  {
   "cell_type": "markdown",
   "metadata": {},
   "source": [
    "**Data Science Tools**\n",
    "| Data Science Tools |\n",
    "|--------------------|\n",
    "| Jupyter Notebook   |\n",
    "| RStudio            |\n",
    "| Apache Zeppelin    |`"
   ]
  },
  {
   "cell_type": "markdown",
   "metadata": {},
   "source": [
    "### Below are a few examples of evaluating arithmetic expressions in Python."
   ]
  },
  {
   "cell_type": "code",
   "execution_count": 1,
   "metadata": {},
   "outputs": [
    {
     "data": {
      "text/plain": [
       "17"
      ]
     },
     "execution_count": 1,
     "metadata": {},
     "output_type": "execute_result"
    }
   ],
   "source": [
    "# This is a simple arithmetic expression to multiply then add integers\n",
    "result = (3 * 4) + 5\n",
    "result"
   ]
  },
  {
   "cell_type": "code",
   "execution_count": 2,
   "metadata": {},
   "outputs": [
    {
     "data": {
      "text/plain": [
       "3.3333333333333335"
      ]
     },
     "execution_count": 2,
     "metadata": {},
     "output_type": "execute_result"
    }
   ],
   "source": [
    "# This will convert 200 minutes to hours by dividing by 60\n",
    "minutes = 200\n",
    "hours = minutes / 60\n",
    "hours"
   ]
  },
  {
   "cell_type": "markdown",
   "metadata": {},
   "source": [
    "**Objectives:**\n",
    "\n",
    "- Learn about popular programming languages used in Data Science.\n",
    "- Understand how to evaluate arithmetic expressions in Python.\n",
    "- Learn how to convert time units, such as minutes to hours.\n",
    "- Explore how to create and manipulate code and markdown cells in Jupyter Notebook.\n"
   ]
  },
  {
   "cell_type": "markdown",
   "metadata": {},
   "source": [
    "## Author\n",
    "Joel Ngiam Kee Yong\n"
   ]
  }
 ],
 "metadata": {
  "kernelspec": {
   "display_name": "Python 3",
   "language": "python",
   "name": "python3"
  },
  "language_info": {
   "codemirror_mode": {
    "name": "ipython",
    "version": 3
   },
   "file_extension": ".py",
   "mimetype": "text/x-python",
   "name": "python",
   "nbconvert_exporter": "python",
   "pygments_lexer": "ipython3",
   "version": "3.12.0"
  }
 },
 "nbformat": 4,
 "nbformat_minor": 2
}
